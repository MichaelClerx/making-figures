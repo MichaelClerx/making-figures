{
 "cells": [
  {
   "cell_type": "markdown",
   "metadata": {},
   "source": [
    "# General tip 2: Design for papers"
   ]
  },
  {
   "cell_type": "markdown",
   "metadata": {},
   "source": [
    "### 2.1 Don't design for screen\n",
    "\n",
    "A very easy way to waste time is to design figures that look good on screen and then adapt them later.\n",
    "You may even fall in love with your screen-designed figures, making it difficult to let go or have new ideas"
   ]
  },
  {
   "cell_type": "markdown",
   "metadata": {},
   "source": [
    "### 2.2 Start with a fixed width\n",
    "\n",
    "The first thing to do when making a figure is setting its width.\n",
    "(Set the height to something big, and trim down when finished).\n",
    "\n",
    "In theory, you should look up or measure the widths of 1 column and 2 column figures in the journal guidelines.\n",
    "In practice, just picking two arbitrary-but-consistent numbers works fine.\n",
    "This might mean your figures get rescaled a little, but as long as it's consistent between figures this will still look great.\n",
    "\n",
    "I've used e.g. 80mm for single and 170mm for double column figures, or 3 inches and 7 inches."
   ]
  },
  {
   "cell_type": "markdown",
   "metadata": {},
   "source": [
    "### 2.3 Pick a readable font size and use it throughout (e.g. Arial 10)\n",
    "  \n",
    "Setting a physical width (in mm or inches) makes the font size a meaningful number.\n",
    "For paper figures, anything below 8 or 9pt probably won't be readable, and anything bigger than 11.5pt can seem clumsy or oversized.\n",
    "\n",
    "Be consistent, and use the same fonts, font sizes etc. in all figures of your paper."
   ]
  },
  {
   "cell_type": "markdown",
   "metadata": {},
   "source": [
    "### 2.4 Minimise whitespace around your figure\n",
    "\n",
    "The article typesetter (or software) will take care of padding. Add only the tiniest sliver in your figure file."
   ]
  },
  {
   "cell_type": "markdown",
   "metadata": {},
   "source": [
    "## Examples"
   ]
  },
  {
   "cell_type": "markdown",
   "metadata": {},
   "source": [
    "### A figure designed for screen\n",
    "![Look at this](./figures-1/one-page-paci-vcp_opt-beat1.png)\n",
    "\n",
    "I love this figure, but it is much too big (and busy) to go in a paper."
   ]
  },
  {
   "cell_type": "markdown",
   "metadata": {},
   "source": [
    "### Fixed widths help you get things right\n",
    "\n",
    "![fig](./figures-1/fixed-width-good.png)\n",
    "\n",
    "The figure above was designed to fit in a single column.\n",
    "As a result, the labels are readable and the line widths are good.\n",
    "No tweaking was required: just choosing common values (10pt font, 1pt line width) resulted in a readable figure.\n",
    "\n",
    "<img src=\"./figures-1/fixed-width-bad.png\" width=\"396\" />\n",
    "\n",
    "A screen-designed figure crammed into the same space.\n",
    "To make this figure suitable for print, you'd need to adapt font sizes and line widths, but also reorganise (and basically redesign) the figure!\n",
    "Avoid this unnecessary work by designing for print from the outset."
   ]
  },
  {
   "cell_type": "markdown",
   "metadata": {},
   "source": [
    "\"_But if I use vector graphics or a high DPI then people can just zoom in, it's the 21st century etc._\".\n",
    "Sure, and in some cases this is fine. But\n",
    "- Large figures are difficult to read on phones, tablets, e-readers etc.\n",
    "- Some scientists are old and/or visually impaired\n",
    "- Some editors still want the figures to look good in print\n",
    "- Some journals are still read in print (especially medical ones)"
   ]
  },
  {
   "cell_type": "markdown",
   "metadata": {},
   "source": [
    "### It's not your job to add padding\n",
    "\n",
    "![fig](./figures-1/dont-add-padding.png)\n",
    "\n",
    "Padding gets added in the typesetting phase. Leave it to the typesetter!\n"
   ]
  }
 ],
 "metadata": {
  "kernelspec": {
   "display_name": "Python 3",
   "language": "python",
   "name": "python3"
  },
  "language_info": {
   "codemirror_mode": {
    "name": "ipython",
    "version": 3
   },
   "file_extension": ".py",
   "mimetype": "text/x-python",
   "name": "python",
   "nbconvert_exporter": "python",
   "pygments_lexer": "ipython3",
   "version": "3.9.12"
  }
 },
 "nbformat": 4,
 "nbformat_minor": 4
}
