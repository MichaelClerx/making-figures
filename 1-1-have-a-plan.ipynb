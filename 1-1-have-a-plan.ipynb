{
 "cells": [
  {
   "cell_type": "markdown",
   "metadata": {},
   "source": [
    "# General tip 1: Plan your figures"
   ]
  },
  {
   "cell_type": "markdown",
   "metadata": {},
   "source": [
    "Making figures is much easier when you have a plan.\n",
    "\n",
    "Unless you have a very clear idea in your mind (e.g. from preliminary work or other publications), use pen and paper to do some \"rapid prototyping\".\n",
    "\n",
    "- Sketching on paper is much faster than using keyboard & mouse.\n",
    "- Sketching helps you spot problems early.\n",
    "- Knowing the layout tells you what size each component is going to be, which lets you draw it with appropriate line widths, fonts, level of detail etc."
   ]
  },
  {
   "cell_type": "markdown",
   "metadata": {},
   "source": [
    "## Examples"
   ]
  },
  {
   "cell_type": "markdown",
   "metadata": {},
   "source": [
    "![img](./figures-1/sketch-imagined-data.jpg)\n",
    "\n",
    "Example sketch including some imaginary data.\n",
    "Drawing the results you expect can help you work out appropriate analyses."
   ]
  },
  {
   "cell_type": "markdown",
   "metadata": {},
   "source": [
    "![img](./figures-1/sketch-complex-layout.jpg)\n",
    "\n",
    "Complex layouts take forever to set up, so try them all out on paper first. I ran out of steam around the 4th row, which was a clear sign I needed to rethink this figure."
   ]
  },
  {
   "cell_type": "markdown",
   "metadata": {},
   "source": [
    "![img](./figures-1/sketch-diagram.jpg)\n",
    "\n",
    "Little diagrams like this take seconds to sketch, but several minutes to create as vector art.\n",
    "By doing sketches first, you avoid doing the slow part twice."
   ]
  }
 ],
 "metadata": {
  "kernelspec": {
   "display_name": "Python 3",
   "language": "python",
   "name": "python3"
  },
  "language_info": {
   "codemirror_mode": {
    "name": "ipython",
    "version": 3
   },
   "file_extension": ".py",
   "mimetype": "text/x-python",
   "name": "python",
   "nbconvert_exporter": "python",
   "pygments_lexer": "ipython3",
   "version": "3.9.12"
  }
 },
 "nbformat": 4,
 "nbformat_minor": 4
}
