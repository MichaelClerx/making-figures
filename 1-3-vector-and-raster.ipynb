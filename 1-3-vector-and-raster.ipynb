{
 "cells": [
  {
   "cell_type": "markdown",
   "metadata": {},
   "source": [
    "# General tip 3: Use vector art where appropriate"
   ]
  },
  {
   "cell_type": "markdown",
   "metadata": {},
   "source": [
    "A **raster image** is a 2d matrix of colour values. Each matrix entry is called a pixel.\n",
    "\n",
    "A **vector image** is a set of instructions for drawing."
   ]
  },
  {
   "cell_type": "markdown",
   "metadata": {},
   "source": [
    "Rendering images on screen or in print often requires a rasterisation step.\n",
    "The main advantage of vector art is that it **delays rasterisation** until the very last step.\n",
    "This avoids lossy intermediate resampling, and allows rasterisation to be carried out by a specialised device (e.g. a display driver or a printer) that has knowledge of the final pixel size.\n",
    "\n",
    "For example, the same vector art might be rendered quite differently on a small phone screen than on a large screen.\n",
    "Printers in particular, are full of little hacks and tweaks that allow them to obtain much nicer results.\n",
    "In some cases, rasterisation can even be avoided altogether, e.g. with old-school [plotters](https://en.wikipedia.org/wiki/Plotter), or [PostScript fonts](https://en.wikipedia.org/wiki/PostScript_fonts).\n"
   ]
  },
  {
   "cell_type": "markdown",
   "metadata": {},
   "source": [
    "### 3.1 The appropriate format depends on the data\n",
    "\n",
    "If you start from raster data, e.g. a photograph, then stick with raster formats.\n",
    "\n",
    "If you start from vector data, e.g. a set of points or a collection of lines, then use vector formats.\n",
    "\n",
    "In some cases it makes sense to combine vector and raster art (which many vector formats allow).\n",
    "For example, you can add vector annotations to a photograph.\n",
    "Conversly, if you have vector data but find that the vector instructions take very long to execute (for example because you are showing a huge amount of data) it can be helpful to rasterise part of the image early."
   ]
  },
  {
   "cell_type": "markdown",
   "metadata": {},
   "source": [
    "### 3.2 Humans are not scale-invariant\n",
    "\n",
    "Resizing a raster image requires resampling, which usually means a loss of quality.\n",
    "Vector art can be scaled up and down without loss.\n",
    "\n",
    "However, line widths and font sizes should be appropriate for the format (e.g. 10pt fonts in a paper, 24pt on a poster) and so may need to be adjusted after you resize.\n",
    "\n",
    "It's also worth remembering that human vision isn't scale invariant: we expect a certain level of detail regardless of size.\n",
    "When scaling up a tiny graphic, even losslessly, you may need to add additional detail or texture. Conversely, when shrinking graphics down, you may need to simplify."
   ]
  },
  {
   "cell_type": "markdown",
   "metadata": {},
   "source": [
    "### 3.3 Think in inches (or mm) and points, not pixels!\n",
    "\n",
    "The size of a pixel varies depending on the screen, but the human eye stays the same!\n",
    "Design your figures using real physical sizes, and leave pixels up to the screen or printer.\n",
    "\n",
    "Define font sizes and line widths in [points](https://en.wikipedia.org/wiki/Point_(typography)), where 1 point equals 1/72nd of an inch.\n",
    "\n",
    "If you do need to get into pixel land:\n",
    "- The resolution at which a printer rasterises is given in [DPI](https://en.wikipedia.org/wiki/Dots_per_inch), or dots per inch. If you are working for screen, forget about DPI.\n",
    "- The size at which raster graphics are shown on a screen depends on the pixel density, measured in [PPI](https://en.wikipedia.org/wiki/Pixel_density), or pixels per inch. \n",
    "- If you can't avoid resampling, aim to have only a single resampling step. If possible, use some integer ratio (e.g. 2 times smaller, 4 times bigger, etc.).\n",
    "\n",
    "(Annoyingly, \"PPI\" is also used to mean \"points per inch\", i.e. 72 by the modern definition. This leads to a lot of conflation of pixels with points.)"
   ]
  },
  {
   "cell_type": "markdown",
   "metadata": {},
   "source": [
    "## Examples"
   ]
  },
  {
   "cell_type": "markdown",
   "metadata": {},
   "source": [
    "In the code below, we create a figure that's 4 inches wide and 2 inches high, using matplotlib. We don't tell matplotlib anything about DPI or PPI, so it uses its default settings of 100 DPI and 72 PPI. To show the image boundaries, we set a gray background colour (using the [web code](https://en.wikipedia.org/wiki/Web_colors) `#cccccc`)."
   ]
  },
  {
   "cell_type": "code",
   "execution_count": 1,
   "metadata": {},
   "outputs": [],
   "source": [
    "import matplotlib.pyplot as plt\n",
    "import numpy as np\n",
    "\n",
    "x = np.linspace(0, 100, 1000)\n",
    "y = np.sin(x) + 1.1 * np.cos(1.2 * (x + 1.3))\n",
    "\n",
    "f = plt.figure(figsize=(4, 2), facecolor='#cccccc')\n",
    "plt.subplots_adjust(0.13, 0.22, 0.99, 0.99)\n",
    "ax = f.add_subplot(1, 1, 1)\n",
    "ax.set_xlabel('x')\n",
    "ax.set_ylabel('f(x)')\n",
    "ax.plot(x, y)\n",
    "plt.savefig('./figures-1/res-1.png')\n",
    "plt.close()"
   ]
  },
  {
   "cell_type": "markdown",
   "metadata": {},
   "source": [
    "We can include this image below (note that Jupyter will cache this image, so it won't change directly if you modify the code above):\n",
    "\n",
    "![img](./figures-1/res-1.png)\n",
    "\n",
    "We can see the pixel size of the image using e.g. PIL (the Python Image Library):"
   ]
  },
  {
   "cell_type": "code",
   "execution_count": 2,
   "metadata": {},
   "outputs": [
    {
     "name": "stdout",
     "output_type": "stream",
     "text": [
      "(288, 144)\n"
     ]
    }
   ],
   "source": [
    "import PIL.Image\n",
    "img = PIL.Image.open('./figures-1/res-1.png')\n",
    "print(img.size)"
   ]
  },
  {
   "cell_type": "markdown",
   "metadata": {},
   "source": [
    "This shows us the image is 4 * 72 = 288 pixels wide, and 2 * 72 pixels high.\n",
    "\n",
    "Now get your ruler out!\n",
    "On my PC screen at home, the image measures about 3 by 1.5 inches, which is not a million miles off but not great either. On my old laptop it's 2 inches wide. If I was working on a fancier laptop or looking at my phone, it might render as just 1 inch wide.\n",
    "\n",
    "This illustrates a first problem with raster graphics, even when staying on screen: The actual display size depends on the hardware, and more \n",
    "expensive hardware does not necessarily increase readability!"
   ]
  },
  {
   "cell_type": "markdown",
   "metadata": {},
   "source": [
    "We can ask matplotlib to rasterise at a higher resolution by increasing the DPI setting used*:\n",
    "\n",
    "(Note that we're adjusting DPI, which is for printing not for screens. This is a sign that we're doing it wrong!) "
   ]
  },
  {
   "cell_type": "code",
   "execution_count": 3,
   "metadata": {},
   "outputs": [],
   "source": [
    "import matplotlib.pyplot as plt\n",
    "import numpy as np\n",
    "\n",
    "x = np.linspace(0, 100, 1000)\n",
    "y = np.sin(x) + 1.1 * np.cos(1.2 * (x + 1.3))\n",
    "\n",
    "f = plt.figure(figsize=(4, 2), facecolor='#cccccc')\n",
    "plt.subplots_adjust(0.13, 0.22, 0.99, 0.99)\n",
    "ax = f.add_subplot(1, 1, 1)\n",
    "ax.set_xlabel('x')\n",
    "ax.set_ylabel('f(x)')\n",
    "ax.plot(x, y)\n",
    "plt.savefig('./figures-1/res-2.png', dpi=200)\n",
    "plt.close()"
   ]
  },
  {
   "cell_type": "markdown",
   "metadata": {},
   "source": [
    "This results in the following image:\n",
    "\n",
    "![img](./figures-1/res-2.png)"
   ]
  },
  {
   "cell_type": "markdown",
   "metadata": {},
   "source": [
    "Rendered 1:1 on the screen, the whole figure now looks a lot bigger, including larger fonts and thicker lines.\n",
    "This is the intended behaviour: Both images are the same size (4 inches wide), and so a 1pt line in the second figure needs more pixels (or dots) than in the first."
   ]
  },
  {
   "cell_type": "code",
   "execution_count": 4,
   "metadata": {},
   "outputs": [
    {
     "name": "stdout",
     "output_type": "stream",
     "text": [
      "(800, 400)\n"
     ]
    }
   ],
   "source": [
    "img = PIL.Image.open('./figures-1/res-2.png')\n",
    "print(img.size)"
   ]
  },
  {
   "cell_type": "markdown",
   "metadata": {},
   "source": [
    "Using PIL we see that the image size is now 4 inches * 200 DPI = 800 pixels wide, by 2 * 200 = 400 pixels high.\n",
    "\n",
    "What if we want a figure that looks bigger on screen, but still has \"normal\" font sizes?\n",
    "The answer is to simply tell matplotlib that we want the figure to be bigger, by increasing the figure size, without touching the DPI:"
   ]
  },
  {
   "cell_type": "code",
   "execution_count": 5,
   "metadata": {},
   "outputs": [
    {
     "name": "stdout",
     "output_type": "stream",
     "text": [
      "(576, 288)\n"
     ]
    }
   ],
   "source": [
    "import matplotlib.pyplot as plt\n",
    "import numpy as np\n",
    "\n",
    "x = np.linspace(0, 100, 1000)\n",
    "y = np.sin(x) + 1.1 * np.cos(1.2 * (x + 1.3))\n",
    "\n",
    "f = plt.figure(figsize=(8, 4), facecolor='#cccccc')\n",
    "plt.subplots_adjust(0.07, 0.11, 0.99, 0.99)\n",
    "ax = f.add_subplot(1, 1, 1)\n",
    "ax.set_xlabel('x')\n",
    "ax.set_ylabel('f(x)')\n",
    "ax.plot(x, y)\n",
    "plt.savefig('./figures-1/res-3.png')\n",
    "plt.close()\n",
    "\n",
    "img = PIL.Image.open('./figures-1/res-3.png')\n",
    "print(img.size)"
   ]
  },
  {
   "cell_type": "markdown",
   "metadata": {},
   "source": [
    "Now the image is wider, but fonts are rendered with the same number of pixels as in the first example:\n",
    "\n",
    "![img](./figures-1/res-3.png)"
   ]
  },
  {
   "cell_type": "markdown",
   "metadata": {},
   "source": [
    "Finally, we can avoid a lot of these steps by saving in a vector format:"
   ]
  },
  {
   "cell_type": "code",
   "execution_count": 6,
   "metadata": {},
   "outputs": [],
   "source": [
    "import matplotlib.pyplot as plt\n",
    "import numpy as np\n",
    "\n",
    "x = np.linspace(0, 100, 1000)\n",
    "y = np.sin(x) + 1.1 * np.cos(1.2 * (x + 1.3))\n",
    "\n",
    "f = plt.figure(figsize=(8, 4), facecolor='#cccccc')\n",
    "plt.subplots_adjust(0.07, 0.11, 0.99, 0.99)\n",
    "ax = f.add_subplot(1, 1, 1)\n",
    "ax.set_xlabel('x')\n",
    "ax.set_ylabel('f(x)')\n",
    "ax.plot(x, y)\n",
    "plt.savefig('./figures-1/res-4.svg')\n",
    "plt.close()"
   ]
  },
  {
   "cell_type": "markdown",
   "metadata": {},
   "source": [
    "![img](./figures-1/res-4.svg)"
   ]
  },
  {
   "cell_type": "markdown",
   "metadata": {},
   "source": [
    "Now get your ruler out again.\n",
    "On my screen this image renders as approximately 8 1/8 inches wide, so almost exactly the intended size: the display drivers have talked to the screen (or made a good guess) of the pixel density, and so can rasterise at a level that produces the intended figure size!"
   ]
  },
  {
   "cell_type": "markdown",
   "metadata": {},
   "source": [
    "Again, consider the rasterisation steps involved:\n",
    "\n",
    "- The function is still rasterised as 1000 x and y coordinates.\n",
    "- When storing, these 1000 coordinates are just written into the SVG file (so we avoid rasterisation, but do store more data than potentially shown in the end result).\n",
    "- When the image is drawn on screen, the 1000 x and y coordinates are up/down sampled to whatever resolution is appropriate. The text however, is rasterised for the first and only time!\n",
    "- Note how the font size in the rendered image closely matches this text!"
   ]
  }
 ],
 "metadata": {
  "kernelspec": {
   "display_name": "Python 3",
   "language": "python",
   "name": "python3"
  },
  "language_info": {
   "codemirror_mode": {
    "name": "ipython",
    "version": 3
   },
   "file_extension": ".py",
   "mimetype": "text/x-python",
   "name": "python",
   "nbconvert_exporter": "python",
   "pygments_lexer": "ipython3",
   "version": "3.9.12"
  }
 },
 "nbformat": 4,
 "nbformat_minor": 4
}
