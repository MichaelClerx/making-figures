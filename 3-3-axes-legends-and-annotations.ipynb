{
 "cells": [
  {
   "cell_type": "markdown",
   "metadata": {},
   "source": [
    "# Matplotlib: Getting started"
   ]
  },
  {
   "cell_type": "markdown",
   "metadata": {},
   "source": [
    "## Axes\n",
    "- Limits\n",
    "- Ticks, ticklabels\n",
    "- Grid\n",
    "- Frame\n"
   ]
  },
  {
   "cell_type": "markdown",
   "metadata": {},
   "source": [
    "## Legends\n",
    "\n",
    "- Frame, alpha\n",
    "- Line width, padding etc\n",
    "- Columns\n",
    "- Positioning (e.g. moving outside of the graph)\n",
    "- axes versus data coordinates\n",
    "- Custom lines and labels\n",
    "\n"
   ]
  },
  {
   "cell_type": "markdown",
   "metadata": {},
   "source": [
    "## Annotations\n",
    "\n",
    "- axvline, axhline\n",
    "- axvspan, axhspan\n",
    "- text\n",
    "- shapes\n",
    "- Insets\n",
    "  - axes versus data coordinates\n"
   ]
  }
 ],
 "metadata": {
  "kernelspec": {
   "display_name": "Python 3",
   "language": "python",
   "name": "python3"
  },
  "language_info": {
   "codemirror_mode": {
    "name": "ipython",
    "version": 3
   },
   "file_extension": ".py",
   "mimetype": "text/x-python",
   "name": "python",
   "nbconvert_exporter": "python",
   "pygments_lexer": "ipython3",
   "version": "3.9.12"
  }
 },
 "nbformat": 4,
 "nbformat_minor": 4
}
