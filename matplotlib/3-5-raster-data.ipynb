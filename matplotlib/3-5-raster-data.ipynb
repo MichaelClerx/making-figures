{
 "cells": [
  {
   "cell_type": "markdown",
   "metadata": {},
   "source": [
    "# Matplotlib: Raster data"
   ]
  },
  {
   "cell_type": "markdown",
   "metadata": {},
   "source": [
    "A 2d grid of values (e.g. 3d data) can be plotted with [pcolormesh](https://matplotlib.org/stable/api/_as_gen/matplotlib.axes.Axes.pcolormesh.html#matplotlib.axes.Axes.pcolormesh)"
   ]
  },
  {
   "cell_type": "code",
   "execution_count": 1,
   "metadata": {},
   "outputs": [
    {
     "data": {
      "image/png": "[encoded data removed]",
      "text/plain": [
       "<Figure size 504x288 with 1 Axes>"
      ]
     },
     "metadata": {
      "needs_background": "light"
     },
     "output_type": "display_data"
    }
   ],
   "source": [
    "import matplotlib.pyplot as plt\n",
    "\n",
    "z = [\n",
    "    [0, 1, 3, 7, 4, 2, 1],\n",
    "    [1, 4, 5, 8, 6, 1, 0],\n",
    "    [2, 3, 2, 3, 1, 0, 0],\n",
    "    [0, 0, 1, 1, 0, 0, 0],\n",
    "]\n",
    "\n",
    "fig = plt.figure(figsize=(7, 4))\n",
    "ax = fig.add_subplot()\n",
    "ax.pcolormesh(z)\n",
    "plt.show()"
   ]
  },
  {
   "cell_type": "markdown",
   "metadata": {},
   "source": [
    "We can also specify the four corners of each shape:"
   ]
  },
  {
   "cell_type": "code",
   "execution_count": 2,
   "metadata": {},
   "outputs": [
    {
     "data": {
      "image/png": "[encoded data removed]",
      "text/plain": [
       "<Figure size 504x288 with 1 Axes>"
      ]
     },
     "metadata": {
      "needs_background": "light"
     },
     "output_type": "display_data"
    }
   ],
   "source": [
    "x = [\n",
    "    [2, 3, 4, 5, 6, 7, 8, 9],\n",
    "    [2, 3, 4, 5, 6, 7, 8, 9],\n",
    "    [2, 3, 4, 5, 6, 7, 8, 12],\n",
    "    [2, 3, 4, 5, 6, 7, 8, 9],\n",
    "    [2, 3, 4, 5, 6, 7, 8, 10],\n",
    "]\n",
    "y = [\n",
    "    [2, 2, 2, 2, 2, 2, 2, 2],\n",
    "    [4, 4, 4, 4, 4, 4, 4, 4],\n",
    "    [6, 6, 6, 6, 6, 6, 6, 6],\n",
    "    [7, 7, 7, 7, 7, 7, 7, 7],\n",
    "    [8, 8, 8, 8, 9, 10, 8, 10],\n",
    "]\n",
    "\n",
    "z = [\n",
    "    [0, 1, 3, 7, 4, 2, 1],\n",
    "    [1, 4, 5, 8, 6, 1, 7],\n",
    "    [2, 3, 2, 3, 1, 0, 8],\n",
    "    [0, 0, 1, 1, 7, 8, 9],\n",
    "]\n",
    "\n",
    "fig = plt.figure(figsize=(7, 4))\n",
    "ax = fig.add_subplot()\n",
    "ax.set_xlim(0, 13)\n",
    "ax.set_ylim(0, 11)\n",
    "ax.pcolormesh(x, y, z)\n",
    "plt.show()"
   ]
  },
  {
   "cell_type": "markdown",
   "metadata": {},
   "source": [
    "### Images\n",
    "\n",
    "A similar functionality is provided by [imshow]("
   ]
  },
  {
   "cell_type": "code",
   "execution_count": 3,
   "metadata": {},
   "outputs": [
    {
     "data": {
      "image/png": "[encoded data removed]",
      "text/plain": [
       "<Figure size 1080x288 with 2 Axes>"
      ]
     },
     "metadata": {
      "needs_background": "light"
     },
     "output_type": "display_data"
    }
   ],
   "source": [
    "fig = plt.figure(figsize=(15, 4))\n",
    "\n",
    "ax1 = fig.add_subplot(1, 2, 1)\n",
    "ax1.pcolormesh(z)\n",
    "\n",
    "ax2 = fig.add_subplot(1, 2, 2)\n",
    "ax2.imshow(z)\n",
    "\n",
    "plt.show()"
   ]
  },
  {
   "cell_type": "markdown",
   "metadata": {},
   "source": [
    "Imshow is intended for image data, and so has a few important differences from pcolormesh:\n",
    "\n",
    "- imshow assumes the first data point should be plotted top-left\n",
    "- imshow centers each \"pixel\" on an integer position\n",
    "- imshow must be rectangular\n",
    "\n",
    "We can place an image in a particular position using `extent`:"
   ]
  },
  {
   "cell_type": "code",
   "execution_count": 7,
   "metadata": {},
   "outputs": [
    {
     "data": {
      "image/png": "[encoded data removed]",
      "text/plain": [
       "<Figure size 504x288 with 1 Axes>"
      ]
     },
     "metadata": {
      "needs_background": "light"
     },
     "output_type": "display_data"
    }
   ],
   "source": [
    "fig = plt.figure(figsize=(7, 4))\n",
    "\n",
    "ax = fig.add_subplot()\n",
    "ax.set_xlim(0, 7)\n",
    "ax.set_ylim(0, 4)\n",
    "\n",
    "x1, x2 = 1, 6\n",
    "y1, y2 = 1, 3\n",
    "ax.imshow(z, extent=(x1, x2, y1, y2))\n",
    "\n",
    "plt.show()"
   ]
  },
  {
   "cell_type": "markdown",
   "metadata": {},
   "source": [
    "Notice how the image is still the right way up!"
   ]
  }
 ],
 "metadata": {
  "kernelspec": {
   "display_name": "Python 3",
   "language": "python",
   "name": "python3"
  },
  "language_info": {
   "codemirror_mode": {
    "name": "ipython",
    "version": 3
   },
   "file_extension": ".py",
   "mimetype": "text/x-python",
   "name": "python",
   "nbconvert_exporter": "python",
   "pygments_lexer": "ipython3",
   "version": "3.10.4"
  }
 },
 "nbformat": 4,
 "nbformat_minor": 4
}
